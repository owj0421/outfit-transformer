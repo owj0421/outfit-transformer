{
 "cells": [
  {
   "cell_type": "code",
   "execution_count": null,
   "metadata": {},
   "outputs": [
    {
     "ename": "ModuleNotFoundError",
     "evalue": "No module named 'fashion_recommenders.data'",
     "output_type": "error",
     "traceback": [
      "\u001b[0;31m---------------------------------------------------------------------------\u001b[0m",
      "\u001b[0;31mModuleNotFoundError\u001b[0m                       Traceback (most recent call last)",
      "Cell \u001b[0;32mIn[4], line 8\u001b[0m\n\u001b[1;32m      6\u001b[0m \u001b[38;5;28;01mimport\u001b[39;00m \u001b[38;5;21;01msys\u001b[39;00m\n\u001b[1;32m      7\u001b[0m sys\u001b[38;5;241m.\u001b[39mpath\u001b[38;5;241m.\u001b[39mappend(\u001b[38;5;124m'\u001b[39m\u001b[38;5;124m/home/owj0421/projects/fashion_recommenders\u001b[39m\u001b[38;5;124m'\u001b[39m)\n\u001b[0;32m----> 8\u001b[0m \u001b[38;5;28;01mfrom\u001b[39;00m \u001b[38;5;21;01mfashion_recommenders\u001b[39;00m\u001b[38;5;21;01m.\u001b[39;00m\u001b[38;5;21;01mdata\u001b[39;00m\u001b[38;5;21;01m.\u001b[39;00m\u001b[38;5;21;01mloader\u001b[39;00m \u001b[38;5;28;01mimport\u001b[39;00m SQLiteItemLoader\n\u001b[1;32m      9\u001b[0m \u001b[38;5;28;01mfrom\u001b[39;00m \u001b[38;5;21;01mfashion_recommenders\u001b[39;00m\u001b[38;5;21;01m.\u001b[39;00m\u001b[38;5;21;01mdata\u001b[39;00m\u001b[38;5;21;01m.\u001b[39;00m\u001b[38;5;21;01mindexer\u001b[39;00m \u001b[38;5;28;01mimport\u001b[39;00m FAISSIndexer\n\u001b[1;32m     10\u001b[0m \u001b[38;5;28;01mfrom\u001b[39;00m \u001b[38;5;21;01mfashion_recommenders\u001b[39;00m\u001b[38;5;21;01m.\u001b[39;00m\u001b[38;5;21;01mutils\u001b[39;00m\u001b[38;5;21;01m.\u001b[39;00m\u001b[38;5;21;01mdemo\u001b[39;00m \u001b[38;5;28;01mimport\u001b[39;00m demo\n",
      "\u001b[0;31mModuleNotFoundError\u001b[0m: No module named 'fashion_recommenders.data'"
     ]
    }
   ],
   "source": [
    "import json\n",
    "import sys\n",
    "sys.path.append('/home/owj0421/projects')\n",
    "from outfit_transformer.src.model.load import load_model\n",
    "\n",
    "import sys\n",
    "sys.path.append('/home/owj0421/projects/fashion_recommenders')\n",
    "from fashion_recommenders.data.loader import SQLiteItemLoader\n",
    "from fashion_recommenders.data.indexer import FAISSIndexer\n",
    "from fashion_recommenders.utils.demo import demo"
   ]
  },
  {
   "cell_type": "code",
   "execution_count": 3,
   "metadata": {},
   "outputs": [
    {
     "name": "stderr",
     "output_type": "stream",
     "text": [
      "/home/owj0421/miniconda3/envs/outfit-transformer/lib/python3.10/site-packages/torch/nn/modules/transformer.py:379: UserWarning: enable_nested_tensor is True, but self.use_nested_tensor is False because encoder_layer.norm_first was True\n",
      "  warnings.warn(\n",
      "/home/owj0421/projects/outfit_transformer/src/model/load.py:37: FutureWarning: You are using `torch.load` with `weights_only=False` (the current default value), which uses the default pickle module implicitly. It is possible to construct malicious pickle data which will execute arbitrary code during unpickling (See https://github.com/pytorch/pytorch/blob/main/SECURITY.md#untrusted-models for more details). In a future release, the default value for `weights_only` will be flipped to `True`. This limits the functions that could be executed during unpickling. Arbitrary objects will no longer be allowed to be loaded via this mode unless they are explicitly allowlisted by the user via `torch.serialization.add_safe_globals`. We recommend you start setting `weights_only=True` for any use case where you don't have full control of the loaded file. Please open an issue on GitHub for any issues related to this experimental feature.\n",
      "  torch.load(\n"
     ]
    },
    {
     "name": "stdout",
     "output_type": "stream",
     "text": [
      "Loaded model from checkpoint: /home/owj0421/projects/outfit_transformer/checkpoints/cir-clip-best/epoch_4_acc_0.663_loss_0.037/model.pt\n",
      "* Running on local URL:  http://127.0.0.1:7861\n",
      "\n",
      "To create a public link, set `share=True` in `launch()`.\n"
     ]
    },
    {
     "data": {
      "text/html": [
       "<div><iframe src=\"http://127.0.0.1:7861/\" width=\"100%\" height=\"500\" allow=\"autoplay; camera; microphone; clipboard-read; clipboard-write;\" frameborder=\"0\" allowfullscreen></iframe></div>"
      ],
      "text/plain": [
       "<IPython.core.display.HTML object>"
      ]
     },
     "metadata": {},
     "output_type": "display_data"
    },
    {
     "name": "stderr",
     "output_type": "stream",
     "text": [
      "[FAISS] Searching: 100%|██████████| 1/1 [00:00<00:00, 37.07it/s]\n",
      "[FAISS] Searching: 100%|██████████| 1/1 [00:00<00:00, 41.39it/s]\n",
      "[FAISS] Searching: 100%|██████████| 1/1 [00:00<00:00, 43.53it/s]\n"
     ]
    }
   ],
   "source": [
    "DB_DIR = '/home/owj0421/projects/fashion_recommenders/db'\n",
    "IMAGE_DIR = '/home/owj0421/datasets/polyvore/images'\n",
    "\n",
    "MODEL_TYPE = 'clip'\n",
    "CHECKPOINT = '/home/owj0421/projects/outfit_transformer/checkpoints/cir-clip-best/epoch_4_acc_0.663_loss_0.037/model.pt'\n",
    "\n",
    "loader = SQLiteItemLoader(\n",
    "    db_dir=DB_DIR,\n",
    "    image_dir=IMAGE_DIR,\n",
    ")\n",
    "indexer = FAISSIndexer(\n",
    "    index_dir=DB_DIR,\n",
    "    embedding_sz=128\n",
    ")\n",
    "model = load_model(\n",
    "    model_type=MODEL_TYPE,\n",
    "    checkpoint=CHECKPOINT\n",
    ")\n",
    "model.eval()\n",
    "demo(\n",
    "    model=model,\n",
    "    item_loader=loader,\n",
    "    task='cir',\n",
    "    indexer=indexer,\n",
    ")"
   ]
  }
 ],
 "metadata": {
  "kernelspec": {
   "display_name": "outfit-transformer",
   "language": "python",
   "name": "python3"
  },
  "language_info": {
   "codemirror_mode": {
    "name": "ipython",
    "version": 3
   },
   "file_extension": ".py",
   "mimetype": "text/x-python",
   "name": "python",
   "nbconvert_exporter": "python",
   "pygments_lexer": "ipython3",
   "version": "3.10.15"
  }
 },
 "nbformat": 4,
 "nbformat_minor": 2
}
